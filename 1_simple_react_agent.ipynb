{
 "cells": [
  {
   "cell_type": "markdown",
   "metadata": {
    "id": "PIxIgBTtaoU9"
   },
   "source": [
    "# Setup\n",
    "- Make sure you have created a virtual environment\n",
    "- activate the environment and run the requirements.txt with pip: `pip install -r requirements.txt`\n",
    "- From the environment, start this jupyter notebook: `jupyter notebook`"
   ]
  },
  {
   "cell_type": "code",
   "execution_count": 3,
   "metadata": {},
   "outputs": [
    {
     "data": {
      "text/plain": [
       "True"
      ]
     },
     "execution_count": 3,
     "metadata": {},
     "output_type": "execute_result"
    }
   ],
   "source": [
    "from dotenv import load_dotenv\n",
    "load_dotenv() #OPENAI_API_KEY"
   ]
  },
  {
   "cell_type": "markdown",
   "metadata": {
    "id": "I8IiWLrRaj9E"
   },
   "source": [
    "# Build a simple graph"
   ]
  },
  {
   "cell_type": "code",
   "execution_count": 4,
   "metadata": {},
   "outputs": [],
   "source": [
    "# All imports\n",
    "from langgraph.graph import StateGraph, START, END\n",
    "from IPython.display import Image, display"
   ]
  },
  {
   "cell_type": "markdown",
   "metadata": {
    "id": "8HCq0jveuUak"
   },
   "source": [
    "## Define the state"
   ]
  },
  {
   "cell_type": "code",
   "execution_count": 5,
   "metadata": {
    "id": "7-xwdF1xuWqN"
   },
   "outputs": [],
   "source": [
    "from typing_extensions import TypedDict\n",
    "\n",
    "class State(TypedDict):\n",
    "  graph_state: str"
   ]
  },
  {
   "cell_type": "markdown",
   "metadata": {
    "id": "pFRkIQMBdHbQ"
   },
   "source": [
    "## Build the nodes"
   ]
  },
  {
   "cell_type": "code",
   "execution_count": 6,
   "metadata": {
    "id": "MhC59HtPdD3O"
   },
   "outputs": [],
   "source": [
    "def node_1(state):\n",
    "  print(\"### Node 1 ###\")\n",
    "  return {\"graph_state\": state['graph_state'] +\" Heads you win. Tails I win: \"}\n",
    "\n",
    "def node_2(state):\n",
    "  print(\"### Node 2 ###\")\n",
    "  return {\"graph_state\": state['graph_state'] +\" head!\"}\n",
    "\n",
    "def node_3(state):\n",
    "  print(\"### Node 3 ###\")\n",
    "  return {\"graph_state\": state['graph_state'] +\" tail!\"}"
   ]
  },
  {
   "cell_type": "markdown",
   "metadata": {
    "id": "oVj8uVS1dKse"
   },
   "source": [
    "## Build the edges"
   ]
  },
  {
   "cell_type": "code",
   "execution_count": 7,
   "metadata": {
    "id": "daVcco8-dMjb"
   },
   "outputs": [],
   "source": [
    "import random\n",
    "from typing import Literal\n",
    "# This is naive 50/50 intellgence.\n",
    "# This can be your LLM doing a clever AI task\n",
    "def coin_toss(state) -> Literal[\"node_2\", \"node_3\"]:\n",
    "  user_input = state['graph_state']\n",
    "\n",
    "  if random.random() < 0.5:\n",
    "    return \"node_2\"\n",
    "  else:\n",
    "    return \"node_3\""
   ]
  },
  {
   "cell_type": "markdown",
   "metadata": {
    "id": "uxenDNlqc-bg"
   },
   "source": [
    "## Build and compile the graph"
   ]
  },
  {
   "cell_type": "code",
   "execution_count": 8,
   "metadata": {
    "id": "-LH2dxEGYrFY"
   },
   "outputs": [],
   "source": [
    "# Add graph nodes\n",
    "builder = StateGraph(State)\n",
    "builder.add_node(\"node_1\", node_1)\n",
    "builder.add_node(\"node_2\", node_2)\n",
    "builder.add_node(\"node_3\", node_3)\n",
    "# Add graph edges\n",
    "builder.add_edge(START, \"node_1\")\n",
    "builder.add_conditional_edges(\"node_1\", coin_toss)\n",
    "builder.add_edge(\"node_2\", END)\n",
    "builder.add_edge(\"node_3\", END)\n",
    "# compile graph\n",
    "simple_graph = builder.compile()"
   ]
  },
  {
   "cell_type": "markdown",
   "metadata": {
    "id": "1n-CZQa3hAcu"
   },
   "source": [
    "## Visualize the graph"
   ]
  },
  {
   "cell_type": "code",
   "execution_count": 10,
   "metadata": {
    "colab": {
     "base_uri": "https://localhost:8080/",
     "height": 350
    },
    "id": "3BTSgA0Dag8J",
    "outputId": "f6e104ee-530f-41c5-a154-48452afd795b"
   },
   "outputs": [
    {
     "data": {
      "image/png": "[encoded data removed]",
      "text/plain": [
       "<IPython.core.display.Image object>"
      ]
     },
     "metadata": {},
     "output_type": "display_data"
    }
   ],
   "source": [
    "display(Image(simple_graph.get_graph().draw_mermaid_png()))"
   ]
  },
  {
   "cell_type": "markdown",
   "metadata": {
    "id": "pjGxYzrChDZ8"
   },
   "source": [
    "## Run the graph"
   ]
  },
  {
   "cell_type": "code",
   "execution_count": 25,
   "metadata": {
    "colab": {
     "base_uri": "https://localhost:8080/"
    },
    "id": "e1CNU9fxhGYM",
    "outputId": "6020f0c6-d1cb-44b7-8d3c-732995ee3dd9"
   },
   "outputs": [
    {
     "name": "stdout",
     "output_type": "stream",
     "text": [
      "### Node 1 ###\n",
      "### Node 2 ###\n"
     ]
    },
    {
     "data": {
      "text/plain": [
       "{'graph_state': \"Let's toss a coin. Heads you win. Tails I win:  head!\"}"
      ]
     },
     "execution_count": 25,
     "metadata": {},
     "output_type": "execute_result"
    }
   ],
   "source": [
    "simple_graph.invoke({\"graph_state\" : \"Let's toss a coin.\"})"
   ]
  },
  {
   "cell_type": "markdown",
   "metadata": {
    "id": "AnDfc5RZ0HJq"
   },
   "source": [
    "# Graph with LLM Model + Tool calling => ReAct Agent!"
   ]
  },
  {
   "cell_type": "code",
   "execution_count": 10,
   "metadata": {
    "colab": {
     "base_uri": "https://localhost:8080/",
     "height": 560
    },
    "id": "CXPF-sC_0N-W",
    "outputId": "bc9f406b-a82c-4c00-93d7-95fd375aeb7a"
   },
   "outputs": [],
   "source": [
    "# All imports\n",
    "from langchain_openai import ChatOpenAI\n",
    "from langgraph.prebuilt import tools_condition\n",
    "from langgraph.prebuilt import ToolNode\n",
    "from IPython.display import Image, display"
   ]
  },
  {
   "cell_type": "markdown",
   "metadata": {
    "id": "PuUEZOwO1TBd"
   },
   "source": [
    "## Define the tools"
   ]
  },
  {
   "cell_type": "code",
   "execution_count": 11,
   "metadata": {
    "id": "EXCTdAqV1ScY"
   },
   "outputs": [],
   "source": [
    "def add(a: int, b: int) -> int:\n",
    "    \"\"\"Adds a and b.\n",
    "\n",
    "    Args:\n",
    "        a: first int\n",
    "        b: second int\n",
    "    \"\"\"\n",
    "    return a + b\n",
    "\n",
    "def multiply(a: int, b: int) -> int:\n",
    "    \"\"\"Multiplies a and b.\n",
    "\n",
    "    Args:\n",
    "        a: first int\n",
    "        b: second int\n",
    "    \"\"\"\n",
    "    return a * b\n",
    "\n",
    "def divide(a: int, b: int) -> float:\n",
    "    \"\"\"Divide a and b.\n",
    "\n",
    "    Args:\n",
    "        a: first int\n",
    "        b: second int\n",
    "    \"\"\"\n",
    "    return a / b\n",
    "\n",
    "tools = [add, multiply, divide]"
   ]
  },
  {
   "cell_type": "markdown",
   "metadata": {
    "id": "rwC7if8n1qPp"
   },
   "source": [
    "## Define LLM and power it with tools"
   ]
  },
  {
   "cell_type": "code",
   "execution_count": 13,
   "metadata": {
    "id": "nQeix56C1smW"
   },
   "outputs": [],
   "source": [
    "# Define LLM with bound tools\n",
    "llm = ChatOpenAI(model=\"gpt-4o\")\n",
    "llm_with_tools = llm.bind_tools(tools)"
   ]
  },
  {
   "cell_type": "code",
   "execution_count": 12,
   "metadata": {},
   "outputs": [],
   "source": [
    "from langgraph.graph import MessagesState\n",
    "from langchain_core.messages import HumanMessage, SystemMessage\n",
    "\n",
    "# System message\n",
    "sys_msg = SystemMessage(content=\"You are a helpful assistant tasked with performing arithmetic operations on a given set of inputs.\")\n",
    "\n",
    "# Node with LLM assistant\n",
    "def assistant(state: MessagesState):\n",
    "   return {\"messages\": [llm_with_tools.invoke([sys_msg] + state[\"messages\"])]}"
   ]
  },
  {
   "cell_type": "markdown",
   "metadata": {
    "id": "78kfTbjj16G3"
   },
   "source": [
    "## Build the graph"
   ]
  },
  {
   "cell_type": "code",
   "execution_count": 14,
   "metadata": {
    "id": "z5qIiF7a17AW"
   },
   "outputs": [],
   "source": [
    "\n",
    "builder = StateGraph(MessagesState)\n",
    "\n",
    "# Our assistant and Tools nodes\n",
    "builder.add_node(\"assistant\", assistant)\n",
    "builder.add_node(\"tools\", ToolNode(tools))\n",
    "\n",
    "# edges\n",
    "builder.add_edge(START, \"assistant\")\n",
    "builder.add_conditional_edges(\n",
    "    \"assistant\",\n",
    "    tools_condition,\n",
    ")\n",
    "builder.add_edge(\"tools\", \"assistant\")\n",
    "\n",
    "# compile the graph\n",
    "react_graph = builder.compile()"
   ]
  },
  {
   "cell_type": "code",
   "execution_count": 15,
   "metadata": {
    "id": "obNuJ2Dl4ant"
   },
   "outputs": [
    {
     "data": {
      "image/png": "[encoded data removed]",
      "text/plain": [
       "<IPython.core.display.Image object>"
      ]
     },
     "metadata": {},
     "output_type": "display_data"
    }
   ],
   "source": [
    "# visualize the graph\n",
    "display(Image(react_graph.get_graph().draw_mermaid_png()))"
   ]
  },
  {
   "cell_type": "markdown",
   "metadata": {
    "id": "M8EpoE2D4ixo"
   },
   "source": [
    "## Run the graph"
   ]
  },
  {
   "cell_type": "code",
   "execution_count": 18,
   "metadata": {
    "id": "19CJX9r94kve"
   },
   "outputs": [
    {
     "name": "stdout",
     "output_type": "stream",
     "text": [
      "================================\u001b[1m Human Message \u001b[0m=================================\n",
      "\n",
      "Add 7 and 3. Multiply the output by 2. Divide the output by 5\n",
      "==================================\u001b[1m Ai Message \u001b[0m==================================\n",
      "Tool Calls:\n",
      "  add (call_tHCiOVF9MNho7uROgWInoVb5)\n",
      " Call ID: call_tHCiOVF9MNho7uROgWInoVb5\n",
      "  Args:\n",
      "    a: 7\n",
      "    b: 3\n",
      "=================================\u001b[1m Tool Message \u001b[0m=================================\n",
      "Name: add\n",
      "\n",
      "10\n",
      "==================================\u001b[1m Ai Message \u001b[0m==================================\n",
      "Tool Calls:\n",
      "  multiply (call_PkwMGhN4xpOHiwuXQRVWi77v)\n",
      " Call ID: call_PkwMGhN4xpOHiwuXQRVWi77v\n",
      "  Args:\n",
      "    a: 10\n",
      "    b: 2\n",
      "=================================\u001b[1m Tool Message \u001b[0m=================================\n",
      "Name: multiply\n",
      "\n",
      "20\n",
      "==================================\u001b[1m Ai Message \u001b[0m==================================\n",
      "Tool Calls:\n",
      "  divide (call_6VpbPwI3UQnxrWkDxscd6Y89)\n",
      " Call ID: call_6VpbPwI3UQnxrWkDxscd6Y89\n",
      "  Args:\n",
      "    a: 20\n",
      "    b: 5\n",
      "=================================\u001b[1m Tool Message \u001b[0m=================================\n",
      "Name: divide\n",
      "\n",
      "4.0\n",
      "==================================\u001b[1m Ai Message \u001b[0m==================================\n",
      "\n",
      "The final result is \\(4.0\\).\n"
     ]
    }
   ],
   "source": [
    "messages = [HumanMessage(content=\"Add 7 and 3. Multiply the output by 2. Divide the output by 5\")]\n",
    "messages = react_graph.invoke({\"messages\": messages})\n",
    "\n",
    "for m in messages['messages']:\n",
    "    m.pretty_print()"
   ]
  }
 ],
 "metadata": {
  "colab": {
   "collapsed_sections": [
    "PIxIgBTtaoU9"
   ],
   "provenance": [],
   "toc_visible": true
  },
  "kernelspec": {
   "display_name": "Python 3 (ipykernel)",
   "language": "python",
   "name": "python3"
  },
  "language_info": {
   "codemirror_mode": {
    "name": "ipython",
    "version": 3
   },
   "file_extension": ".py",
   "mimetype": "text/x-python",
   "name": "python",
   "nbconvert_exporter": "python",
   "pygments_lexer": "ipython3",
   "version": "3.12.0"
  }
 },
 "nbformat": 4,
 "nbformat_minor": 4
}
