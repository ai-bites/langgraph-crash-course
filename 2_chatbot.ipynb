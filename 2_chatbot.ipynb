{
 "cells": [
  {
   "cell_type": "markdown",
   "id": "99acb7fe-4e65-4671-be4b-bf410e91e05a",
   "metadata": {},
   "source": [
    "# 1. Simple Chatbot"
   ]
  },
  {
   "cell_type": "markdown",
   "id": "b2edb8ea-c6e1-4554-a1a0-e181570fe58b",
   "metadata": {},
   "source": [
    "## Setup"
   ]
  },
  {
   "cell_type": "code",
   "execution_count": 1,
   "id": "403be13c-822c-480d-bac1-73acc2dc3448",
   "metadata": {},
   "outputs": [
    {
     "data": {
      "text/plain": [
       "True"
      ]
     },
     "execution_count": 1,
     "metadata": {},
     "output_type": "execute_result"
    }
   ],
   "source": [
    "from dotenv import load_dotenv\n",
    "load_dotenv() #OPENAI_API_KEY \n",
    "# import os\n",
    "# print(os.environ.get(\"OPENAI_API_KEY\"))"
   ]
  },
  {
   "cell_type": "markdown",
   "id": "316326a3-c4b1-45dc-a649-7cb575598836",
   "metadata": {},
   "source": [
    "## Build a simple Chatbot"
   ]
  },
  {
   "cell_type": "code",
   "execution_count": 3,
   "id": "da5aaf12-5387-4540-a7a9-f62692721557",
   "metadata": {},
   "outputs": [],
   "source": [
    "from typing import Annotated\n",
    "\n",
    "from typing_extensions import TypedDict\n",
    "\n",
    "from langgraph.graph import StateGraph, START, END\n",
    "from langgraph.graph.message import add_messages\n",
    "\n",
    "\n",
    "class State(TypedDict):\n",
    "    # Messages have the type \"list\". The `add_messages` function\n",
    "    # in the annotation defines how this state key should be updated\n",
    "    # (in this case, it appends messages to the list, rather than overwriting them)\n",
    "    messages: Annotated[list, add_messages]\n"
   ]
  },
  {
   "cell_type": "markdown",
   "id": "4a407c7f-4a72-4992-9a25-5260821eb1fc",
   "metadata": {},
   "source": [
    "### Add a chat Node"
   ]
  },
  {
   "cell_type": "code",
   "execution_count": 4,
   "id": "990612fb-b054-43a5-91a1-56f093a5cd8a",
   "metadata": {},
   "outputs": [],
   "source": [
    "import os\n",
    "from langchain.chat_models import init_chat_model\n",
    "\n",
    "llm = init_chat_model(\"openai:gpt-4.1\")\n",
    "\n",
    "def chatbot(state: State):\n",
    "    return {\"messages\": [llm.invoke(state[\"messages\"])]}"
   ]
  },
  {
   "cell_type": "markdown",
   "id": "9044eeb7-327f-42c7-8eb5-ef54e3626c00",
   "metadata": {},
   "source": [
    "### Build the graph"
   ]
  },
  {
   "cell_type": "code",
   "execution_count": 5,
   "id": "a0e4a91f-e803-42ee-abb2-c549599e3e25",
   "metadata": {},
   "outputs": [],
   "source": [
    "graph_builder = StateGraph(State)\n",
    "graph_builder.add_edge(START, \"chatbot\")\n",
    "graph_builder.add_node(\"chatbot\", chatbot)\n",
    "chatbot_graph = graph_builder.compile()"
   ]
  },
  {
   "cell_type": "markdown",
   "id": "8e8653f7-2575-429b-a93c-7b3d875bf053",
   "metadata": {},
   "source": [
    "### Visualize the Graph"
   ]
  },
  {
   "cell_type": "code",
   "execution_count": 6,
   "id": "6e6d101f-0b45-4e29-a50c-e435e2510f70",
   "metadata": {},
   "outputs": [
    {
     "data": {
      "image/png": "[encoded data removed]",
      "text/plain": [
       "<IPython.core.display.Image object>"
      ]
     },
     "metadata": {},
     "output_type": "display_data"
    }
   ],
   "source": [
    "from IPython.display import Image, display\n",
    "display(Image(chatbot_graph.get_graph().draw_mermaid_png()))"
   ]
  },
  {
   "cell_type": "markdown",
   "id": "fc418ae0-0102-400a-89fd-7c4e573ec04b",
   "metadata": {},
   "source": [
    "### Test - Chat with the bot"
   ]
  },
  {
   "cell_type": "code",
   "execution_count": 8,
   "id": "a6ce0e7d-e76b-4133-944e-cea63bae2883",
   "metadata": {
    "scrolled": true
   },
   "outputs": [
    {
     "name": "stdin",
     "output_type": "stream",
     "text": [
      "User:  what do you know about langgraph?\n"
     ]
    },
    {
     "name": "stdout",
     "output_type": "stream",
     "text": [
      "Assistant: **LangGraph** is an open-source framework released in early 2024 for building **stateful, multi-agent language model applications**. It was created by the team behind [LangChain](https://www.langchain.com/), and is intended to help developers build complex applications powered by large language models (LLMs) where **multiple agents (LLMs or tools) interact with each other** and can **retain state** across interactions.\n",
      "\n",
      "## Key Features\n",
      "\n",
      "- **Multi-Agent Workflows:** Easily orchestrates conversations and collaborative tasks between multiple \"agents\" (LLMs or function-calling endpoints).\n",
      "- **State Management:** Explicitly models and manages the *state* of the application as it progresses, allowing for more complex, persistent logic than simple chains or flows.\n",
      "- **Graph-Based Architecture:** Applications are represented as graphs where nodes are agents or states, and edges define transitions based on outputs, similar to state machines.\n",
      "- **Looping & Branching:** Supports iterative, looping, and conditional logic, making it easy to build workflows like debugging loops, planning-execution-reflection, or negotiation between agents.\n",
      "- **Integration with LangChain:** Built to work seamlessly with LangChain tools, agents, and language models.\n",
      "- **Open Source:** [LangGraph GitHub](https://github.com/langchain-ai/langgraph)\n",
      "\n",
      "## Example Use Cases\n",
      "\n",
      "- **AI Coordinators:** Orchestrate different LLM-powered agents each tasked with subtasks (e.g., planning, execution, reviewing).\n",
      "- **Human-in-the-Loop:** Human agents participate in the workflow, allowing for approvals or corrections.\n",
      "- **Conversation Flows:** Stateful dialog systems, support bots--where context and flow matter.\n",
      "- **Code Generation Pipelines:** Multi-step workflows involving code writing, testing, and debugging agents.\n",
      "\n",
      "## How It Works\n",
      "\n",
      "- **Define Nodes:** Each agent or function is defined as a node.\n",
      "- **Define State:** Explicitly declare the state that gets passed and updated between nodes.\n",
      "- **Define Edges/Transitions:** Specify rules for how/when to move from one node to another based on the current state or outputs.\n",
      "\n",
      "## Example (Python)\n",
      "```python\n",
      "import langgraph\n",
      "\n",
      "# Define nodes (functions, LLMs, or agents)\n",
      "def executor(state):\n",
      "    # Do something with the state\n",
      "    return new_state\n",
      "\n",
      "def reviewer(state):\n",
      "    # Review results\n",
      "    return new_state\n",
      "\n",
      "# Define the graph connections and state transitions\n",
      "graph = langgraph.Graph()\n",
      "graph.add_node(\"executor\", executor)\n",
      "graph.add_node(\"reviewer\", reviewer)\n",
      "graph.add_edge(\"executor\", \"reviewer\")\n",
      "graph.add_edge(\"reviewer\", \"executor\")  # Allows looping\n",
      "\n",
      "# Define the state (e.g., a dict)\n",
      "initial_state = {\"task\": \"Write a poem\", \"history\": []}\n",
      "result = graph.run(initial_state)\n",
      "```\n",
      "\n",
      "## Resources\n",
      "\n",
      "- [LangGraph GitHub](https://github.com/langchain-ai/langgraph)\n",
      "- [Introducing LangGraph (LangChain blog)](https://blog.langchain.dev/introducing-langgraph/)\n",
      "- [LangGraph Documentation](https://langchain-ai.github.io/langgraph/)\n",
      "\n",
      "**In summary:** LangGraph is a powerful way to add coordination, memory, and interactivity to applications using multiple LLM agents—bridging the gap between simple chains and fully modular, state-aware workflows.\n"
     ]
    },
    {
     "name": "stdin",
     "output_type": "stream",
     "text": [
      "User:  quit\n"
     ]
    },
    {
     "name": "stdout",
     "output_type": "stream",
     "text": [
      "Goodbye!\n"
     ]
    }
   ],
   "source": [
    "def stream_graph_updates(user_input: str):\n",
    "    for event in chatbot_graph.stream({\"messages\": [{\"role\": \"user\", \"content\": user_input}]}):\n",
    "        for value in event.values():\n",
    "            print(\"Assistant:\", value[\"messages\"][-1].content)\n",
    "\n",
    "while True:\n",
    "    try:\n",
    "        user_input = input(\"User: \")\n",
    "        if user_input.lower() in [\"quit\", \"exit\", \"q\"]:\n",
    "            print(\"Goodbye!\")\n",
    "            break\n",
    "        stream_graph_updates(user_input)\n",
    "    except:\n",
    "        # fallback if input() is not available\n",
    "        user_input = \"What do you know about LangGraph?\"\n",
    "        print(\"User: \" + user_input)\n",
    "        stream_graph_updates(user_input)\n",
    "        break"
   ]
  },
  {
   "cell_type": "markdown",
   "id": "67038a7a-2a4a-4e91-bc5c-d82409e755e8",
   "metadata": {},
   "source": [
    "## Chatbot with Tool use"
   ]
  },
  {
   "cell_type": "code",
   "execution_count": 11,
   "id": "581c7a5d-4d17-414a-8b48-4ee786464e7f",
   "metadata": {},
   "outputs": [
    {
     "name": "stdout",
     "output_type": "stream",
     "text": [
      "Requirement already satisfied: langchain-tavily in /Users/ssankar/miniconda3/envs/langgraph-cc/lib/python3.12/site-packages (0.1.6)\n",
      "Requirement already satisfied: aiohttp<4.0.0,>=3.11.14 in /Users/ssankar/miniconda3/envs/langgraph-cc/lib/python3.12/site-packages (from langchain-tavily) (3.11.18)\n",
      "Requirement already satisfied: langchain<0.4.0,>=0.3.20 in /Users/ssankar/miniconda3/envs/langgraph-cc/lib/python3.12/site-packages (from langchain-tavily) (0.3.25)\n",
      "Requirement already satisfied: langchain-core<0.4.0,>=0.3.15 in /Users/ssankar/miniconda3/envs/langgraph-cc/lib/python3.12/site-packages (from langchain-tavily) (0.3.58)\n",
      "Requirement already satisfied: mypy<2.0.0,>=1.15.0 in /Users/ssankar/miniconda3/envs/langgraph-cc/lib/python3.12/site-packages (from langchain-tavily) (1.15.0)\n",
      "Requirement already satisfied: requests<3.0.0,>=2.32.3 in /Users/ssankar/miniconda3/envs/langgraph-cc/lib/python3.12/site-packages (from langchain-tavily) (2.32.3)\n",
      "Requirement already satisfied: aiohappyeyeballs>=2.3.0 in /Users/ssankar/miniconda3/envs/langgraph-cc/lib/python3.12/site-packages (from aiohttp<4.0.0,>=3.11.14->langchain-tavily) (2.6.1)\n",
      "Requirement already satisfied: aiosignal>=1.1.2 in /Users/ssankar/miniconda3/envs/langgraph-cc/lib/python3.12/site-packages (from aiohttp<4.0.0,>=3.11.14->langchain-tavily) (1.3.2)\n",
      "Requirement already satisfied: attrs>=17.3.0 in /Users/ssankar/miniconda3/envs/langgraph-cc/lib/python3.12/site-packages (from aiohttp<4.0.0,>=3.11.14->langchain-tavily) (25.3.0)\n",
      "Requirement already satisfied: frozenlist>=1.1.1 in /Users/ssankar/miniconda3/envs/langgraph-cc/lib/python3.12/site-packages (from aiohttp<4.0.0,>=3.11.14->langchain-tavily) (1.6.0)\n",
      "Requirement already satisfied: multidict<7.0,>=4.5 in /Users/ssankar/miniconda3/envs/langgraph-cc/lib/python3.12/site-packages (from aiohttp<4.0.0,>=3.11.14->langchain-tavily) (6.4.3)\n",
      "Requirement already satisfied: propcache>=0.2.0 in /Users/ssankar/miniconda3/envs/langgraph-cc/lib/python3.12/site-packages (from aiohttp<4.0.0,>=3.11.14->langchain-tavily) (0.3.1)\n",
      "Requirement already satisfied: yarl<2.0,>=1.17.0 in /Users/ssankar/miniconda3/envs/langgraph-cc/lib/python3.12/site-packages (from aiohttp<4.0.0,>=3.11.14->langchain-tavily) (1.20.0)\n",
      "Requirement already satisfied: langchain-text-splitters<1.0.0,>=0.3.8 in /Users/ssankar/miniconda3/envs/langgraph-cc/lib/python3.12/site-packages (from langchain<0.4.0,>=0.3.20->langchain-tavily) (0.3.8)\n",
      "Requirement already satisfied: langsmith<0.4,>=0.1.17 in /Users/ssankar/miniconda3/envs/langgraph-cc/lib/python3.12/site-packages (from langchain<0.4.0,>=0.3.20->langchain-tavily) (0.3.42)\n",
      "Requirement already satisfied: pydantic<3.0.0,>=2.7.4 in /Users/ssankar/miniconda3/envs/langgraph-cc/lib/python3.12/site-packages (from langchain<0.4.0,>=0.3.20->langchain-tavily) (2.11.4)\n",
      "Requirement already satisfied: SQLAlchemy<3,>=1.4 in /Users/ssankar/miniconda3/envs/langgraph-cc/lib/python3.12/site-packages (from langchain<0.4.0,>=0.3.20->langchain-tavily) (2.0.40)\n",
      "Requirement already satisfied: PyYAML>=5.3 in /Users/ssankar/miniconda3/envs/langgraph-cc/lib/python3.12/site-packages (from langchain<0.4.0,>=0.3.20->langchain-tavily) (6.0.2)\n",
      "Requirement already satisfied: tenacity!=8.4.0,<10.0.0,>=8.1.0 in /Users/ssankar/miniconda3/envs/langgraph-cc/lib/python3.12/site-packages (from langchain-core<0.4.0,>=0.3.15->langchain-tavily) (9.1.2)\n",
      "Requirement already satisfied: jsonpatch<2.0,>=1.33 in /Users/ssankar/miniconda3/envs/langgraph-cc/lib/python3.12/site-packages (from langchain-core<0.4.0,>=0.3.15->langchain-tavily) (1.33)\n",
      "Requirement already satisfied: packaging<25,>=23.2 in /Users/ssankar/miniconda3/envs/langgraph-cc/lib/python3.12/site-packages (from langchain-core<0.4.0,>=0.3.15->langchain-tavily) (24.2)\n",
      "Requirement already satisfied: typing-extensions>=4.7 in /Users/ssankar/miniconda3/envs/langgraph-cc/lib/python3.12/site-packages (from langchain-core<0.4.0,>=0.3.15->langchain-tavily) (4.13.2)\n",
      "Requirement already satisfied: jsonpointer>=1.9 in /Users/ssankar/miniconda3/envs/langgraph-cc/lib/python3.12/site-packages (from jsonpatch<2.0,>=1.33->langchain-core<0.4.0,>=0.3.15->langchain-tavily) (3.0.0)\n",
      "Requirement already satisfied: httpx<1,>=0.23.0 in /Users/ssankar/miniconda3/envs/langgraph-cc/lib/python3.12/site-packages (from langsmith<0.4,>=0.1.17->langchain<0.4.0,>=0.3.20->langchain-tavily) (0.28.1)\n",
      "Requirement already satisfied: orjson<4.0.0,>=3.9.14 in /Users/ssankar/miniconda3/envs/langgraph-cc/lib/python3.12/site-packages (from langsmith<0.4,>=0.1.17->langchain<0.4.0,>=0.3.20->langchain-tavily) (3.10.18)\n",
      "Requirement already satisfied: requests-toolbelt<2.0.0,>=1.0.0 in /Users/ssankar/miniconda3/envs/langgraph-cc/lib/python3.12/site-packages (from langsmith<0.4,>=0.1.17->langchain<0.4.0,>=0.3.20->langchain-tavily) (1.0.0)\n",
      "Requirement already satisfied: zstandard<0.24.0,>=0.23.0 in /Users/ssankar/miniconda3/envs/langgraph-cc/lib/python3.12/site-packages (from langsmith<0.4,>=0.1.17->langchain<0.4.0,>=0.3.20->langchain-tavily) (0.23.0)\n",
      "Requirement already satisfied: anyio in /Users/ssankar/miniconda3/envs/langgraph-cc/lib/python3.12/site-packages (from httpx<1,>=0.23.0->langsmith<0.4,>=0.1.17->langchain<0.4.0,>=0.3.20->langchain-tavily) (4.9.0)\n",
      "Requirement already satisfied: certifi in /Users/ssankar/miniconda3/envs/langgraph-cc/lib/python3.12/site-packages (from httpx<1,>=0.23.0->langsmith<0.4,>=0.1.17->langchain<0.4.0,>=0.3.20->langchain-tavily) (2025.4.26)\n",
      "Requirement already satisfied: httpcore==1.* in /Users/ssankar/miniconda3/envs/langgraph-cc/lib/python3.12/site-packages (from httpx<1,>=0.23.0->langsmith<0.4,>=0.1.17->langchain<0.4.0,>=0.3.20->langchain-tavily) (1.0.9)\n",
      "Requirement already satisfied: idna in /Users/ssankar/miniconda3/envs/langgraph-cc/lib/python3.12/site-packages (from httpx<1,>=0.23.0->langsmith<0.4,>=0.1.17->langchain<0.4.0,>=0.3.20->langchain-tavily) (3.10)\n",
      "Requirement already satisfied: h11>=0.16 in /Users/ssankar/miniconda3/envs/langgraph-cc/lib/python3.12/site-packages (from httpcore==1.*->httpx<1,>=0.23.0->langsmith<0.4,>=0.1.17->langchain<0.4.0,>=0.3.20->langchain-tavily) (0.16.0)\n",
      "Requirement already satisfied: mypy_extensions>=1.0.0 in /Users/ssankar/miniconda3/envs/langgraph-cc/lib/python3.12/site-packages (from mypy<2.0.0,>=1.15.0->langchain-tavily) (1.1.0)\n",
      "Requirement already satisfied: annotated-types>=0.6.0 in /Users/ssankar/miniconda3/envs/langgraph-cc/lib/python3.12/site-packages (from pydantic<3.0.0,>=2.7.4->langchain<0.4.0,>=0.3.20->langchain-tavily) (0.7.0)\n",
      "Requirement already satisfied: pydantic-core==2.33.2 in /Users/ssankar/miniconda3/envs/langgraph-cc/lib/python3.12/site-packages (from pydantic<3.0.0,>=2.7.4->langchain<0.4.0,>=0.3.20->langchain-tavily) (2.33.2)\n",
      "Requirement already satisfied: typing-inspection>=0.4.0 in /Users/ssankar/miniconda3/envs/langgraph-cc/lib/python3.12/site-packages (from pydantic<3.0.0,>=2.7.4->langchain<0.4.0,>=0.3.20->langchain-tavily) (0.4.0)\n",
      "Requirement already satisfied: charset-normalizer<4,>=2 in /Users/ssankar/miniconda3/envs/langgraph-cc/lib/python3.12/site-packages (from requests<3.0.0,>=2.32.3->langchain-tavily) (3.4.2)\n",
      "Requirement already satisfied: urllib3<3,>=1.21.1 in /Users/ssankar/miniconda3/envs/langgraph-cc/lib/python3.12/site-packages (from requests<3.0.0,>=2.32.3->langchain-tavily) (2.4.0)\n",
      "Requirement already satisfied: sniffio>=1.1 in /Users/ssankar/miniconda3/envs/langgraph-cc/lib/python3.12/site-packages (from anyio->httpx<1,>=0.23.0->langsmith<0.4,>=0.1.17->langchain<0.4.0,>=0.3.20->langchain-tavily) (1.3.1)\n"
     ]
    }
   ],
   "source": [
    "!pip install -U langchain-tavily"
   ]
  },
  {
   "cell_type": "code",
   "execution_count": 15,
   "id": "5f884345-8a1f-4ac6-b08e-43c77458784d",
   "metadata": {},
   "outputs": [
    {
     "data": {
      "text/plain": [
       "True"
      ]
     },
     "execution_count": 15,
     "metadata": {},
     "output_type": "execute_result"
    }
   ],
   "source": [
    "load_dotenv() #for TAVILY_API_KEY "
   ]
  },
  {
   "cell_type": "markdown",
   "id": "98a5f11b-9cbd-4c2c-a183-c1c6a65ad0a3",
   "metadata": {},
   "source": [
    "### Add web search tool"
   ]
  },
  {
   "cell_type": "code",
   "execution_count": 12,
   "id": "2269389b-37aa-40d0-8665-4ce0b54a811f",
   "metadata": {
    "scrolled": true
   },
   "outputs": [
    {
     "data": {
      "text/plain": [
       "{'query': \"What's a 'conditional edge' in LangGraph?\",\n",
       " 'follow_up_questions': None,\n",
       " 'answer': None,\n",
       " 'images': [],\n",
       " 'results': [{'title': 'LangGraph conditional edges - YouTube',\n",
       "   'url': 'https://www.youtube.com/watch?v=EKxoCVbXZwY',\n",
       "   'content': 'In LangGraph, we can use conditional edges in our flow engineering to control the flow based on some conditions. In this video, we use conditional edges to build a cycle and wait until a file is',\n",
       "   'score': 0.88822687,\n",
       "   'raw_content': None},\n",
       "  {'title': 'LangGraph for Beginners, Part 3: Conditional Edges - Medium',\n",
       "   'url': 'https://medium.com/ai-agents/langgraph-for-beginners-part-3-conditional-edges-16a3aaad9f31',\n",
       "   'content': 'Learn about AI Agents, Multi Agents framework using langchain and langgraph In this article, we will create a simple graph that explains conditional edges in LangGraph. In the previous articles we discussed, we learnt how to create a simple graph and call LLM. We will create a simple graph, that forecasts weather as sunny or rainy based on a random number. We define two more nodes, namely rainy_weather and sunny_weather. We will define another function forecast_weather() that will decide whether the weather is sunny or rainy. Create the graph instance Add the nodes to the graph Test the graph In this article we learnt how to create a conditional edge. In the next article we will cover how to create and use tools in LangGraph',\n",
       "   'score': 0.79293,\n",
       "   'raw_content': None},\n",
       "  {'title': 'LangGraph Simplified: Understanding Conditional edge using ... - Medium',\n",
       "   'url': 'https://medium.com/@Shamimw/langgraph-simplified-understanding-conditional-edge-using-hotel-guest-check-in-process-36adfe3380a8',\n",
       "   'content': 'LangGraph Simplified: Understanding Conditional edge using Hotel Guest Check-In Process | by WS | Feb, 2025 | Medium LangGraph Simplified: Understanding Conditional edge using Hotel Guest Check-In Process Let’s consider a hotel guest check-in process, where a guest’s booking status determines the next steps. def check_booking(guest_id: str) -> str: elif \"check booking\" in user_input: return {\"next_node\": \"process_check_bookings\"} return {\"next_node\": \"process_no_booking\"} def process_check_bookings(state): guest_id = state[\"messages\"][-1].content.strip().replace(\"check booking\", \"\").strip() response = check_booking_tool.invoke(guest_id) guest_id = state[\"messages\"][-1].content.strip().replace(\"confirm booking\", \"\").strip() workflow.add_node(\"process_check_bookings\", process_check_bookings) workflow.add_node(\"process_no_booking\", process_no_booking) [\"process_greet\", \"process_check_bookings\", \"process_confirmed_check_in\", \"process_pending_check_in\", \"process_no_booking\", \"process_hotel_info\", \"process_room_service\", \"process_report_issue\", END])   This allows the system to check user booking statuses and provide appropriate responses. def check_booking(guest_id: str) -> str: elif \"check booking\" in user_input: return {\"next_node\": \"process_check_bookings\"} workflow.add_node(\"process_check_bookings\", process_check_bookings) User: check booking 123',\n",
       "   'score': 0.69498676,\n",
       "   'raw_content': None},\n",
       "  {'title': 'Advanced LangGraph: Implementing Conditional Edges and Tool-Calling ...',\n",
       "   'url': 'https://dev.to/jamesli/advanced-langgraph-implementing-conditional-edges-and-tool-calling-agents-3pdn',\n",
       "   'content': 'Advanced LangGraph: Implementing Conditional Edges and Tool-Calling Agents - DEV Community 3 Building Complex AI Workflows with LangGraph: A Detailed Explanation of Subgraph Architecture 4 Checkpoints and Human-Computer Interaction in LangGraph 5 Advanced Techniques in LangGraph: Tips for Using Message Deletion in Graph Structure Applications 6 Advanced LangGraph: Building Intelligent Agents with ReACT Architecture 7 Advanced LangGraph: Implementing Conditional Edges and Tool-Calling Agents 8 Introduction to LangGraph: Core Concepts and Basic Components 9 Analysis of Limitations of LCEL and AgentExecutor workflow.add_edge(\"think\", \"execute_tool\", condition=lambda s: s.status == \"NEED_TOOL\") workflow.add_edge(\"execute_tool\", \"generate_response\", condition=lambda s: s.status == \"GENERATE_RESPONSE\")',\n",
       "   'score': 0.6205532,\n",
       "   'raw_content': None},\n",
       "  {'title': 'A Comprehensive Guide About Langgraph: Code Included - Ionio',\n",
       "   'url': 'https://www.ionio.ai/blog/a-comprehensive-guide-about-langgraph-code-included',\n",
       "   'content': \"We will create one node which will take user input and extract the city name from user’s query and pass it to next node where we will get the weather information using openweather wrapper workflow.add_edge('agent', 'weather') workflow.add_edge('agent', 'weather') We will tell our llm to response with “no_response” if it can’t find city name in user query and based on that output, we will use weather tool or end the workflow. Let’s create an AI agent that can give us live weather information, create draft replies for our emails or even it can chat with us normally like a chatbot. Before creating agents or workflows, let’s first define the states which we are going to pass among nodes. Now let’s create our weather agent workflow 🌤️ Let’s create a task for our weather agent\",\n",
       "   'score': 0.18321371,\n",
       "   'raw_content': None}],\n",
       " 'response_time': 2.18}"
      ]
     },
     "execution_count": 12,
     "metadata": {},
     "output_type": "execute_result"
    }
   ],
   "source": [
    "from langchain_tavily import TavilySearch\n",
    "\n",
    "tool = TavilySearch(max_results=5)\n",
    "\n",
    "# list of all tools we want the LLM to use \n",
    "tools = [tool]\n",
    "tool.invoke(\"What's a 'conditional edge' in LangGraph?\")"
   ]
  },
  {
   "cell_type": "code",
   "execution_count": 20,
   "id": "1c6971ac-edd9-43bd-9072-cf2360b2ca7c",
   "metadata": {},
   "outputs": [],
   "source": [
    "llm_with_tools = llm.bind_tools(tools)\n",
    "\n",
    "def chatbot(state: State):\n",
    "    return {\"messages\": [llm_with_tools.invoke(state[\"messages\"])]}"
   ]
  },
  {
   "cell_type": "code",
   "execution_count": 61,
   "id": "9c486ff9-3f72-42cd-bae7-0a7eb07c5494",
   "metadata": {},
   "outputs": [],
   "source": [
    "import json\n",
    "from langchain_core.messages import ToolMessage\n",
    "\n",
    "class BasicToolNode:\n",
    "    \"\"\"A node that runs the tools requested in the last AI Message.\"\"\"\n",
    "\n",
    "    def __init__(self, tools: list) -> None:\n",
    "        self.tools_by_name = {tool.name: tool for tool in tools}\n",
    "\n",
    "    def __call__(self, inputs: dict):\n",
    "        if messages := inputs.get(\"messages\", []):\n",
    "            message = messages[-1]\n",
    "        else:\n",
    "            raise ValueError(\"No message found in input\")\n",
    "        outputs = []\n",
    "        # relies on the LLM's tool_calling support\n",
    "        # so important to use LLMs like OpenAI, Claude and Gemini\n",
    "        # that support tool calling\n",
    "        for tool_call in message.tool_calls:\n",
    "            tool_result = self.tools_by_name[tool_call[\"name\"]].invoke(\n",
    "                tool_call[\"args\"]\n",
    "            )\n",
    "            outputs.append(\n",
    "                ToolMessage(\n",
    "                    content=json.dumps(tool_result),\n",
    "                    name=tool_call[\"name\"],\n",
    "                    tool_call_id=tool_call[\"id\"],\n",
    "                )\n",
    "            )\n",
    "        return {\"messages\": outputs}"
   ]
  },
  {
   "cell_type": "code",
   "execution_count": 62,
   "id": "45ebb5cb-3ceb-4b3c-8987-c6c85c17474e",
   "metadata": {},
   "outputs": [],
   "source": [
    "graph_with_tool = StateGraph(State)\n",
    "graph_with_tool.add_edge(START, \"chatbot\")\n",
    "graph_with_tool.add_node(\"chatbot\", chatbot)\n",
    "# use the tool node we just build\n",
    "tool_node = BasicToolNode(tools=[tool])\n",
    "graph_with_tool.add_node(\"tools\", tool_node)\n",
    "chatbot_with_tool = graph_with_tool.compile()"
   ]
  },
  {
   "cell_type": "code",
   "execution_count": 67,
   "id": "dcdd6ab1-f86f-4a3a-9500-0332acb4aa10",
   "metadata": {},
   "outputs": [
    {
     "data": {
      "image/png": "[encoded data removed]",
      "text/plain": [
       "<IPython.core.display.Image object>"
      ]
     },
     "metadata": {},
     "output_type": "display_data"
    }
   ],
   "source": [
    "display(Image(chatbot_with_tool.get_graph().draw_mermaid_png()))"
   ]
  },
  {
   "cell_type": "markdown",
   "id": "297936cc-47f7-4869-be2e-4f3125550c4f",
   "metadata": {},
   "source": [
    "### Define conditional Edges (tools to chatbot)"
   ]
  },
  {
   "cell_type": "code",
   "execution_count": 68,
   "id": "bf7e714b-05c3-4fef-b5e5-de93dd69d1a4",
   "metadata": {},
   "outputs": [],
   "source": [
    "def route_tools(\n",
    "    state: State,\n",
    "):\n",
    "    \"\"\"\n",
    "    Use in the conditional_edge to route to the ToolNode if the last message\n",
    "    has tool calls. Otherwise, route to the end.\n",
    "    \"\"\"\n",
    "    if isinstance(state, list):\n",
    "        ai_message = state[-1]\n",
    "    elif messages := state.get(\"messages\", []):\n",
    "        ai_message = messages[-1]\n",
    "    else:\n",
    "        raise ValueError(f\"No messages found in input state to tool_edge: {state}\")\n",
    "    if hasattr(ai_message, \"tool_calls\") and len(ai_message.tool_calls) > 0:\n",
    "        return \"tools\"\n",
    "    return END"
   ]
  },
  {
   "cell_type": "code",
   "execution_count": 69,
   "id": "4e989481-597b-456c-a5c9-1a6d2aa666c0",
   "metadata": {},
   "outputs": [
    {
     "data": {
      "image/png": "[encoded data removed]",
      "text/plain": [
       "<IPython.core.display.Image object>"
      ]
     },
     "metadata": {},
     "output_type": "display_data"
    }
   ],
   "source": [
    "chatbot_with_tool = StateGraph(State)\n",
    "chatbot_with_tool.add_node(\"chatbot\", chatbot)\n",
    "chatbot_with_tool.add_edge(START, \"chatbot\")\n",
    "chatbot_with_tool.add_edge(\"chatbot\", END)\n",
    "\n",
    "tool_node = BasicToolNode(tools=[tool])\n",
    "chatbot_with_tool.add_node(\"tools\", tool_node)\n",
    "\n",
    "chatbot_with_tool.add_conditional_edges(\n",
    "    \"chatbot\",\n",
    "    route_tools,\n",
    "    {\"tools\": \"tools\", END: END},\n",
    ")\n",
    "\n",
    "chatbot_with_tool.add_edge(\"tools\", \"chatbot\")\n",
    "final_graph = chatbot_with_tool.compile()\n",
    "\n",
    "display(Image(final_graph.get_graph().draw_mermaid_png()))"
   ]
  },
  {
   "cell_type": "markdown",
   "id": "bff78807-a276-4fef-85ae-323048ac9463",
   "metadata": {},
   "source": [
    "## Using Prebuilt"
   ]
  },
  {
   "cell_type": "code",
   "execution_count": 15,
   "id": "23ed5cf8-3074-4402-8875-c8e329d3d38c",
   "metadata": {},
   "outputs": [],
   "source": [
    "from langgraph.prebuilt import ToolNode, tools_condition\n",
    "\n",
    "# use prebuilt to build the tool node \n",
    "tool_node = ToolNode(tools=[tool])\n",
    "\n",
    "graph_builder = StateGraph(State)\n",
    "graph_builder.add_node(\"chatbot\", chatbot)\n",
    "graph_builder.add_node(\"tools\", tool_node)\n",
    "graph_builder.add_conditional_edges(\n",
    "    \"chatbot\",\n",
    "    tools_condition,\n",
    ")\n",
    "graph_builder.add_edge(\"tools\", \"chatbot\")\n",
    "graph_builder.add_edge(START, \"chatbot\")\n",
    "graph = graph_builder.compile()"
   ]
  },
  {
   "cell_type": "code",
   "execution_count": 22,
   "id": "bf7a5f50-4c81-4a44-a50e-912e9d1c9cc6",
   "metadata": {},
   "outputs": [
    {
     "data": {
      "image/png": "[encoded data removed]",
      "text/plain": [
       "<IPython.core.display.Image object>"
      ]
     },
     "metadata": {},
     "output_type": "display_data"
    }
   ],
   "source": [
    "display(Image(graph.get_graph().draw_mermaid_png()))"
   ]
  },
  {
   "cell_type": "code",
   "execution_count": null,
   "id": "81d5de69-c3ce-41f5-b36a-31e241ac6407",
   "metadata": {},
   "outputs": [
    {
     "name": "stdin",
     "output_type": "stream",
     "text": [
      "User:  how can we create a toolcall node in langgraph?\n"
     ]
    },
    {
     "name": "stdout",
     "output_type": "stream",
     "text": [
      "Assistant: Sure! In **LangGraph** (often used with LangChain, Python), a \"toolcall node\" is a node that, when reached during execution, triggers a **tool** — for example, a function, API, or any external utility, and incorporates its result into the graph.\n",
      "\n",
      "LangGraph is an orchestrator for LLM workflows as a graph. Nodes are typically functions or chain-like components, and a \"toolcall node\" is simply a node that *calls a tool*.\n",
      "\n",
      "Here's how you can create a basic toolcall node in LangGraph (as of early 2024):\n",
      "\n",
      "---\n",
      "\n",
      "### 1. Define your tool (function):\n",
      "\n",
      "```python\n",
      "def search_tool(query: str) -> str:\n",
      "    # Simulating a search tool\n",
      "    return f\"Searched for: {query}\"\n",
      "```\n",
      "\n",
      "### 2. Build the LangGraph\n",
      "\n",
      "Suppose you're using LangGraph like this:\n",
      "\n",
      "```python\n",
      "from langgraph.graph import StateGraph, END\n",
      "\n",
      "# Optional: define your graph state as a dataclass\n",
      "from dataclasses import dataclass\n",
      "\n",
      "@dataclass\n",
      "class GraphState:\n",
      "    question: str\n",
      "    result: str = \"\"\n",
      "\n",
      "# Node that triggers the tool\n",
      "def search_node(state: GraphState):\n",
      "    result = search_tool(state.question)\n",
      "    return GraphState(\n",
      "        question=state.question,\n",
      "        result=result\n",
      "    )\n",
      "\n",
      "# Build the graph\n",
      "graph = StateGraph(GraphState)\n",
      "graph.add_node(\"search\", search_node)\n",
      "\n",
      "graph.set_entry_point(\"search\")\n",
      "graph.add_edge(\"search\", END)\n",
      "\n",
      "# Compile\n",
      "search_graph = graph.compile()\n",
      "```\n",
      "\n",
      "### 3. Run the Graph\n",
      "\n",
      "```python\n",
      "input_state = GraphState(question=\"What is the weather today?\")\n",
      "output_state = search_graph.invoke(input_state)\n",
      "print(output_state)\n",
      "# GraphState(question=\"What is the weather today?\", result=\"Searched for: What is the weather today?\")\n",
      "```\n",
      "\n",
      "---\n",
      "\n",
      "## TL;DR\n",
      "\n",
      "A **toolcall node** is simply a node that calls a tool (function or API).  \n",
      "In **LangGraph**, define a function (your tool), then make a node that calls it and add it to your graph.  \n",
      "This allows you to modularize LLM workflows where specific nodes trigger specific external actions.\n",
      "\n",
      "---\n",
      "\n",
      "**If you're using LangChain's agent + tool ecosystem:**  \n",
      "You can use the `ToolExecutor` from LangChain and a similar pattern, or use the new `RunnableTool` abstraction.\n",
      "\n",
      "Let me know if you want a more advanced example, integration with LLMs, or how to add error handling!\n"
     ]
    }
   ],
   "source": [
    "def stream_graph_updates(user_input: str, graph):\n",
    "    for event in graph.stream({\"messages\": [{\"role\": \"user\", \"content\": user_input}]}):\n",
    "        for value in event.values():\n",
    "            print(\"Assistant:\", value[\"messages\"][-1].content)\n",
    "\n",
    "while True:\n",
    "    try:\n",
    "        user_input = input(\"User: \")\n",
    "        if user_input.lower() in [\"quit\", \"exit\", \"q\"]:\n",
    "            print(\"Goodbye!\")\n",
    "            break\n",
    "        stream_graph_updates(user_input, graph)\n",
    "    except:\n",
    "        # fallback if input() is not available\n",
    "        user_input = \"What do you know about LangGraph?\"\n",
    "        print(\"User: \" + user_input)\n",
    "        stream_graph_updates(user_input)\n",
    "        break"
   ]
  },
  {
   "cell_type": "code",
   "execution_count": null,
   "id": "1428d4c8-130b-4710-9dc7-c85f8ef350fd",
   "metadata": {},
   "outputs": [],
   "source": []
  }
 ],
 "metadata": {
  "kernelspec": {
   "display_name": "Python 3 (ipykernel)",
   "language": "python",
   "name": "python3"
  },
  "language_info": {
   "codemirror_mode": {
    "name": "ipython",
    "version": 3
   },
   "file_extension": ".py",
   "mimetype": "text/x-python",
   "name": "python",
   "nbconvert_exporter": "python",
   "pygments_lexer": "ipython3",
   "version": "3.12.0"
  }
 },
 "nbformat": 4,
 "nbformat_minor": 5
}
